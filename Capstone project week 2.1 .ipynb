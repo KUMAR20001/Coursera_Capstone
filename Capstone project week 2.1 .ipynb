{
    "cells": [
        {
            "cell_type": "markdown",
            "metadata": {
                "collapsed": true
            },
            "source": "#  S Kumar Dhananjaya"
        },
        {
            "cell_type": "markdown",
            "metadata": {},
            "source": "## Capstone Project week 2 \n"
        },
        {
            "cell_type": "markdown",
            "metadata": {},
            "source": "### Problem Description"
        },
        {
            "cell_type": "markdown",
            "metadata": {},
            "source": "### I wondered, how the movie streaming Platform could suggesr me content that appealed to me. Then i came across something known as Recommendation System.\n\n### This system is capable of learning my watching patterns and providing me with relevant suggestions. Having witnessed the fourth industrial revolutionwhere Artificial Intelligence and other technologies are dominating the market. I am sure that you must come across reccomendation system in your everyday life . I am also sure that by this time curiosity must be getting the best of you.\n\n### The main goal of this machine learning project is to build a recommendation engine that recommends movies to users and also to understand how exactly it works\n"
        },
        {
            "cell_type": "markdown",
            "metadata": {},
            "source": "# Data "
        },
        {
            "cell_type": "markdown",
            "metadata": {},
            "source": "### A recommendation system provides suggestions to the users through a filtering process that is based on user preferences and browsing history\n\n  #### The information about the user is taken as an input \n  #### The information is taken from the input that is in the form              of browsing data\n  #### This information reflects the prior usage of the product                  as well as the assigned ratings.\n\n### A recommendation system is a platform that provides its users with various contents based on their preferences and likings. A recommendation system takes the information about the user as an input .The recommendation system is an implementation of several machine learning algorithms.\n\n### A recommendtion system also finds a similarity between the different products.\n \n ### for example: Netflix Recommendation System provides you with the Recommendation of the movies that are similar to the ones that have been watches int the past \n \n ### Furthermore, there is collaborative content filtering that provides you with the recommendation in respect with the other users who might have similar viewing histpry or preferences \n \n # Dataset \n \n ### Inorder to build our recommendation system,we have\n\n\n  \n  \n  "
        }
    ],
    "metadata": {
        "kernelspec": {
            "display_name": "Python 3.6",
            "language": "python",
            "name": "python3"
        },
        "language_info": {
            "codemirror_mode": {
                "name": "ipython",
                "version": 3
            },
            "file_extension": ".py",
            "mimetype": "text/x-python",
            "name": "python",
            "nbconvert_exporter": "python",
            "pygments_lexer": "ipython3",
            "version": "3.6.9"
        }
    },
    "nbformat": 4,
    "nbformat_minor": 1
}