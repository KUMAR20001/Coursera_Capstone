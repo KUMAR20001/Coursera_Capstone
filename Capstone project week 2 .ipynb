{
    "cells": [
        {
            "cell_type": "markdown",
            "metadata": {
                "collapsed": true
            },
            "source": "#  S Kumar Dhananjaya"
        },
        {
            "cell_type": "markdown",
            "metadata": {},
            "source": "## Capstone Project week 2 \n"
        },
        {
            "cell_type": "markdown",
            "metadata": {},
            "source": "### Problem Description"
        },
        {
            "cell_type": "markdown",
            "metadata": {},
            "source": "### I wondered, how the movie streaming Platform could suggesr me content that appealed to me. Then i came across something known as Recommendation System.\n\n### This system is capable of learning my watching patterns and providing me with relevant suggestions. Having witnessed the fourth industrial revolutionwhere Artificial Intelligence and other technologies are dominating the market. I am sure that you must come across reccomendation system in your everyday life . I am also sure that by this time curiosity must be getting the best of you.\n\n### The main goal of this machine learning project is to build a recommendation engine that recommends movies to users and also to understand how exactly it works\n"
        },
        {
            "cell_type": "code",
            "execution_count": null,
            "metadata": {},
            "outputs": [],
            "source": ""
        }
    ],
    "metadata": {
        "kernelspec": {
            "display_name": "Python 3.6",
            "language": "python",
            "name": "python3"
        },
        "language_info": {
            "codemirror_mode": {
                "name": "ipython",
                "version": 3
            },
            "file_extension": ".py",
            "mimetype": "text/x-python",
            "name": "python",
            "nbconvert_exporter": "python",
            "pygments_lexer": "ipython3",
            "version": "3.6.9"
        }
    },
    "nbformat": 4,
    "nbformat_minor": 1
}